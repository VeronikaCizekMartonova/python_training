{
 "cells": [
  {
   "cell_type": "markdown",
   "metadata": {},
   "source": [
    "### Write a Python function that calculates the number of dates between today and a date entered by the user."
   ]
  },
  {
   "cell_type": "code",
   "execution_count": 4,
   "metadata": {},
   "outputs": [
    {
     "name": "stdout",
     "output_type": "stream",
     "text": [
      "write the date in format YYYY-MM-DD: 2012-+1-01\n",
      "Wrong input!\n",
      "write the date in format YYYY-MM-DD: 2020-01-01\n"
     ]
    },
    {
     "data": {
      "text/plain": [
       "1030"
      ]
     },
     "execution_count": 4,
     "metadata": {},
     "output_type": "execute_result"
    }
   ],
   "source": [
    "from datetime import datetime\n",
    "import sys\n",
    "\n",
    "## today\n",
    "today = datetime.today()\n",
    "##print(today)\n",
    "\n",
    "## input\n",
    "while True:\n",
    "    try:\n",
    "        x = datetime.strptime(input(\"write the date in format YYYY-MM-DD: \"),'%Y-%m-%d')\n",
    "    except ValueError:\n",
    "        print(\"Wrong input!\")\n",
    "        continue\n",
    "    else:\n",
    "        break\n",
    "\n",
    "\n",
    "##definition of the function\n",
    "def number_of_days(today_date,input_date):\n",
    "    delta = today_date-input_date\n",
    "    return(delta.days)\n",
    "\n",
    "## function\n",
    "number_of_days(today,x)"
   ]
  },
  {
   "cell_type": "markdown",
   "metadata": {},
   "source": [
    "### Write a Python function that calculates the sum of two given integers. If the sum is 16 then print \"Wow!\", if it is between 17 to 20 it will return 20."
   ]
  },
  {
   "cell_type": "code",
   "execution_count": 3,
   "metadata": {},
   "outputs": [
    {
     "name": "stdout",
     "output_type": "stream",
     "text": [
      "Enter first number: +\n",
      "Wrong input! \n",
      "Enter first number: 2\n",
      "Enter second number: 3\n"
     ]
    },
    {
     "data": {
      "text/plain": [
       "5"
      ]
     },
     "execution_count": 3,
     "metadata": {},
     "output_type": "execute_result"
    }
   ],
   "source": [
    "import sys\n",
    "\n",
    "## inputs:\n",
    "while True:\n",
    "    try:\n",
    "        num1 = int(input(\"Enter first number: \"))\n",
    "    except ValueError:\n",
    "        print(\"Wrong input! \")\n",
    "        continue\n",
    "    else:\n",
    "        break\n",
    "        \n",
    "while True:\n",
    "    try:\n",
    "        num2 = int(input(\"Enter second number: \"))\n",
    "    except ValueError:\n",
    "        print(\"Wrong input! \")\n",
    "        continue\n",
    "    else:\n",
    "        break\n",
    "\n",
    "        \n",
    "## definition of function:        \n",
    "def sum_of_numbers (number_1, number_2):\n",
    "    sum_num = num1 + num2\n",
    "    if sum_num == 16:\n",
    "        return(\"Wow!\")\n",
    "    elif (sum_num >=16 and sum_num <=20):\n",
    "        return(\"20\")\n",
    "    else:\n",
    "        return sum_num\n",
    "        \n",
    " ## function\n",
    "sum_of_numbers(num1,num2)    "
   ]
  },
  {
   "cell_type": "markdown",
   "metadata": {},
   "source": [
    "### Write a Python program to print the documents (syntax, description etc.) of Python built-in function(s)."
   ]
  },
  {
   "cell_type": "code",
   "execution_count": 4,
   "metadata": {
    "scrolled": false
   },
   "outputs": [
    {
     "name": "stdout",
     "output_type": "stream",
     "text": [
      "Write the function for which you want to view the documentation:sum\n",
      "Help on built-in function sum in module builtins:\n",
      "\n",
      "sum(iterable, /, start=0)\n",
      "    Return the sum of a 'start' value (default: 0) plus an iterable of numbers\n",
      "    \n",
      "    When the iterable is empty, return the start value.\n",
      "    This function is intended specifically for use with numeric values and may\n",
      "    reject non-numeric types.\n",
      "\n",
      "None\n"
     ]
    }
   ],
   "source": [
    "import sys\n",
    "import re\n",
    "\n",
    "## definition of function using __doc__: \n",
    "#def print_the_doc(x):\n",
    "#    return print(x.__doc__)\n",
    "#fun = sum\n",
    "#fun = input(\"Write the function which you want to see the documentation:\")\n",
    "#print_the_doc(fun)\n",
    "\n",
    "\n",
    "## definition of function using help: \n",
    "def print_the_doc(x):\n",
    "    return print(help(x))\n",
    "\n",
    "function_doc = input(\"Write the function for which you want to view the documentation:\")\n",
    "print_the_doc(function_doc)"
   ]
  },
  {
   "cell_type": "markdown",
   "metadata": {},
   "source": [
    "### Write a Python program to display the first and last element from the list."
   ]
  },
  {
   "cell_type": "code",
   "execution_count": 6,
   "metadata": {},
   "outputs": [
    {
     "name": "stdout",
     "output_type": "stream",
     "text": [
      "write list of comma separated elements:sum.len\n",
      "sum.len sum.len\n"
     ]
    }
   ],
   "source": [
    "import sys\n",
    "\n",
    "## inputs\n",
    "# given_list = [1,2,3,'a']\n",
    "given_str = input(\"write list of comma separated elements:\")\n",
    "given_list = given_str.split(\",\")\n",
    "\n",
    "print(given_list[0], given_list[-1])\n",
    "\n",
    "\n",
    "\n"
   ]
  },
  {
   "cell_type": "markdown",
   "metadata": {},
   "source": [
    "### Write a Python program to test whether a passed letter is a vowel or not."
   ]
  },
  {
   "cell_type": "code",
   "execution_count": 8,
   "metadata": {},
   "outputs": [
    {
     "name": "stdout",
     "output_type": "stream",
     "text": [
      "Enter a letter: +\n",
      "Wrong input. Enter a single alphabetical character.\n",
      "Enter a letter: r\n",
      "Letter: r is not vowel\n"
     ]
    }
   ],
   "source": [
    "import sys\n",
    "import string\n",
    "\n",
    "\n",
    "## inputs:\n",
    "while True:\n",
    "    letter = input(\"Enter a letter: \")\n",
    "    if len(letter) == 1:\n",
    "        if letter in string.ascii_letters:\n",
    "            break\n",
    "        else:\n",
    "            print(\"Wrong input. Enter a single alphabetical character.\")\n",
    "        \n",
    "## definition of vowels\n",
    "vowels = ['a','e','i','o','u','y']\n",
    "x = False\n",
    "\n",
    "## searching in the vowels list for the vowel\n",
    "for i in vowels:\n",
    "    if i == letter:\n",
    "        x = True\n",
    "        break\n",
    "\n",
    "## printing of outputs\n",
    "if x == True:\n",
    "    print(\"Letter: \"+ letter +\" is vowel\")\n",
    "else:\n",
    "    print(\"Letter: \"+ letter +\" is not vowel\")\n"
   ]
  },
  {
   "cell_type": "markdown",
   "metadata": {},
   "source": [
    "### Remove first n characters from a string or add n 'A' characters to the end"
   ]
  },
  {
   "cell_type": "code",
   "execution_count": 9,
   "metadata": {},
   "outputs": [
    {
     "name": "stdout",
     "output_type": "stream",
     "text": [
      "Type the string: apple\n",
      "The number of the characters should be deleted form the start of the string: 3\n",
      "le\n"
     ]
    }
   ],
   "source": [
    "import sys\n",
    "\n",
    "## inputs\n",
    "string = input(\"Type the string: \")\n",
    "##print(string)\n",
    "n_chars = int(input(\"The number of the characters should be deleted form the start of the string: \"))\n",
    "##print(n_chars)\n",
    "if n_chars> len(string):\n",
    "    print(\"The number of the required characters to delete is higher than the string lenght. Please try it again.\")\n",
    "\n",
    "string = string[n_chars:]\n",
    "print(string)\n"
   ]
  },
  {
   "cell_type": "code",
   "execution_count": 10,
   "metadata": {},
   "outputs": [
    {
     "name": "stdout",
     "output_type": "stream",
     "text": [
      "Type the string: apple\n",
      "The number of the 'A' should be added to the end of the string: 3\n",
      "appleAAA\n"
     ]
    }
   ],
   "source": [
    "import sys\n",
    "\n",
    "## inputs\n",
    "string = input(\"Type the string: \")\n",
    "n_chars = int(input(\"The number of the 'A' should be added to the end of the string: \"))\n",
    "##print(string)\n",
    "\n",
    "string = string + 'A'*n_chars ## speciality of Python\n",
    "print(string)"
   ]
  }
 ],
 "metadata": {
  "kernelspec": {
   "display_name": "Python 3 (ipykernel)",
   "language": "python",
   "name": "python3"
  },
  "language_info": {
   "codemirror_mode": {
    "name": "ipython",
    "version": 3
   },
   "file_extension": ".py",
   "mimetype": "text/x-python",
   "name": "python",
   "nbconvert_exporter": "python",
   "pygments_lexer": "ipython3",
   "version": "3.10.8"
  }
 },
 "nbformat": 4,
 "nbformat_minor": 4
}
